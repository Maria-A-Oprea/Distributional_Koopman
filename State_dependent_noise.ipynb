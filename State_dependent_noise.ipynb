{
 "cells": [
  {
   "cell_type": "code",
   "execution_count": 128,
   "id": "35488c7f-d3f8-43b6-90be-20a603c4f876",
   "metadata": {},
   "outputs": [],
   "source": [
    "import numpy as np\n",
    "import matplotlib.pyplot as plt\n"
   ]
  },
  {
   "cell_type": "markdown",
   "id": "02732a97-d18c-4342-932b-4629a6aae646",
   "metadata": {},
   "source": [
    "In this notebook we run the distributional DMD and the SKO algorithm on data coming from an SDE\n",
    "$$ dX_t = a(X_t, t) dt + b(X_t, t) dW_t$$ \n",
    "\n",
    "If $b(x, t) = e^{-\\frac{1}{2}V(x)}$, then the equation has a steady state solution of this SDE:\n",
    "$$\\rho \\sim e^{-V(x)}$$\n",
    "When implementing we will ignore the $t$ dependence in $a$ and $b$."
   ]
  },
  {
   "cell_type": "code",
   "execution_count": 2,
   "id": "f1e33b8b-29d4-49b9-a3ca-3b25a4311f1e",
   "metadata": {},
   "outputs": [],
   "source": [
    "def euler_maruyama(x0, a, b, T, N):\n",
    "    \"\"\"\n",
    "    implements the euler maruyama method with initial condition x0 and\n",
    "    coefficients a and b, for time T. The interval [0, T] is partitioned\n",
    "    in N steps\n",
    "    \"\"\"\n",
    "    dt = T/N\n",
    "    y = np.zeros(N + 1)\n",
    "    y[0] = x0\n",
    "    for i in range(N):\n",
    "        y[i + 1] = y[i] + np.random.normal()* np.sqrt(dt)*b(y[i]) + a(y[i])* dt\n",
    "    return y\n",
    "\n"
   ]
  },
  {
   "cell_type": "markdown",
   "id": "d2bd0008-9df0-435b-a0d9-b23005c3d9e3",
   "metadata": {},
   "source": [
    "### SKO on a long trajectory\n",
    "We compute the $K_{SKO}$ matrix using a long trajectory, then we test its prediction for $\\Delta t$ into the future. To test the prediction we generate K = 100 trajectories starting from $x = 0$ and compute the expectation of $h(X_t)$ along these trajectories. We then compare that to $K_{SKO} h(x)$ . Throughout we will use $\\Delta t = 0.1$   \n",
    "Select radial basis functions $$h_i = \\phi_{c_i} = e^{-\\epsilon (x - c)^2}$$\n",
    "Here we select $c_i \\in \\{-2, -1.5, -1, -0.5, 0, 0.5, 1, 1.5, 2\\}$ and $\\epsilon = 0.5$. \n",
    "\n",
    "Next we generate the data matrices $E_{ij} = h_i(x_j)$ and $D_{ij} = h_i(x_{j + 1})$\n",
    "Finally, we compute the SKO Koopman matrix using the formula $K = DE^\\dagger$. This is a summary of the function algorithm"
   ]
  },
  {
   "cell_type": "markdown",
   "id": "909ba410-6740-4799-b86a-2e4f0e699072",
   "metadata": {},
   "source": [
    "### DKO on an ensemble of trajectories\n",
    "First generate K = 1000 trajectories, each with initial condition sampled from $\\mathcal{N}(0,\\frac{1}{\\sqrt{2}}) $\n",
    "Next we generate data matrices E, D where now:\n",
    "$$E_{ij} = h_i(\\pi_j) = \\frac{1}{K} \\sum_{k = 1}^K \\phi_{c_i} (data[k, j])$$ and \n",
    "$$D_{ij} = h_i(\\pi_{j + 1}) = \\frac{1}{K} \\sum_{k = 1}^K \\phi_{c_i} (data[k, j + 1])$$ "
   ]
  },
  {
   "cell_type": "code",
   "execution_count": 226,
   "id": "8dbe0097-8d80-418a-8b14-f0cf9fa35bea",
   "metadata": {},
   "outputs": [],
   "source": [
    "def SKO(a, b, x0 = 0):\n",
    "    r\"\"\"\n",
    "        Implemetns the SKO algorithm, given a and  b \n",
    "        The number of steps in each simulation is N fixed, Dt is also fixed, the time for sko is T_KSO \n",
    "        The radial basis functions will be used throughout\n",
    "    \"\"\"\n",
    "        # set hyperparameters\n",
    "    T_SKO = 10\n",
    "    N = 10000\n",
    " \n",
    "    eps = 0.5\n",
    "    # compute the trajectory for SKO\n",
    "    Xt = euler_maruyama(x0, a, b, T_SKO, N)\n",
    "    #plt.plot(np.linspace(0, T_SKO, N + 1), Xt)\n",
    "    #plt.title(\"SKO trajectory\")\n",
    "    #plt.ylabel(\"Xt\")\n",
    "    #plt.xlabel(\"time\")\n",
    "    #plt.grid()\n",
    "    \n",
    "    # the SKO data will be the trajectory data with a step of Dt in between \n",
    "    current_step = T_SKO/N\n",
    "    Xt = Xt[:: int(Dt/current_step)]\n",
    "    #plt.plot(np.linspace(0, T, np.size(Xt)), Xt, label = \"SKO data\")\n",
    "    #plt.legend()\n",
    "    # plt.show()\n",
    "    N_SKO = np.size(Xt)\n",
    "    E_SKO = np.zeros((9, N_SKO -1))\n",
    "    D_SKO = np.zeros((9, N_SKO -1))\n",
    "    for i in range(9):\n",
    "        c = -2 + i*0.5\n",
    "        phi_c_Xt = np.exp(-eps* (Xt - c)**2)\n",
    "        E_SKO[i, :] = phi_c_Xt[:-1]\n",
    "        D_SKO[i, :] = phi_c_Xt[1:]\n",
    "    K_SKO = D_SKO@np.linalg.pinv(E_SKO, rcond = 1e-5)\n",
    "    return K_SKO\n",
    "    \n",
    "def DKO(a, b, distr = \"trajectory\", x0 = 0):\n",
    "    r\"\"\"\n",
    "        Implemetns the DKO algorithm, given a and  b \n",
    "        The number of steps in each simulation is N fixed, Dt is also fixed, the time for DKO is T_DKO\n",
    "        K = number of samples in each measure\n",
    "        The radial basis functions will be used throughout\n",
    "\n",
    "        For the measures there are two options:\n",
    "        - use trajectory i.e. we have a long \\pi_t trajectory each consisting of K samples and we chose \\mu_j = \\pi_{j + 1}\n",
    "        - use normal distributions centered at equidistant points between -2 and 2 with standard deviation 1\n",
    "        - use dirac deltas at different locations as a starting point\n",
    "        - assuming the data comes from one long mixing trajectory we construct measures to be conditional distributions\n",
    "    \"\"\"\n",
    "    # set hyperparameters\n",
    "    T_SKO = 10\n",
    "    N = 10000\n",
    "    eps = 0.5\n",
    "    # compute the trajectory for SKO\n",
    "    Xt = euler_maruyama(x0, a, b, T_SKO, N)\n",
    "\n",
    "    # the SKO data will be the trajectory data with a step of Dt in between \n",
    "    current_step = T_SKO/N\n",
    "    \n",
    "    if distr == \"trajectory\":\n",
    "        # number of samples \n",
    "        K = 100\n",
    "\n",
    "        # number of measures = number of time steps on the trajectory since \\mu_j = \\pi_{j + 1}\n",
    "        m = 100\n",
    "        N_DKO = int(m*Dt/current_step)\n",
    "        T_DKO = Dt*m\n",
    "        data = np.zeros((K, N + 1))\n",
    "        for j in range(K):\n",
    "            # uncomment this if you want the initial distribution to be a delta at 0\n",
    "            # x0 = 0\n",
    "\n",
    "            # uncomment this if you want the initial distribution to be normal\n",
    "            x_0 = np.random.normal(loc = 0, scale = 1/np.sqrt(2))\n",
    "            data[j, :] = euler_maruyama(x_0, a, b, T_DKO, N_DKO)\n",
    "        # DKO data is the trajectory data but with a step of Dt in between\n",
    "        data = data[:, ::int(Dt/current_step)]\n",
    "\n",
    "        # update the number of points in the data\n",
    "        (_, N_DKO) = np.shape(data)\n",
    "\n",
    "         # Compute the E and D matrices\n",
    "        E_DKO = np.zeros((9, N_DKO - 1))\n",
    "        D_DKO = np.zeros((9, N_DKO - 1))\n",
    "        for i in range(9):\n",
    "            c = -2 + i*0.5\n",
    "            phi_c_data = np.zeros((N_DKO, ))\n",
    "            for k in range(K):\n",
    "                phi_c_data += 1/K*np.exp(-eps* (data[k, :] - c)**2)\n",
    "            E_DKO[i, :] = phi_c_data[:-1]\n",
    "            D_DKO[i, :] = phi_c_data[1:]\n",
    "\n",
    "        #  uncomment to plot the ensemble of trajectories\n",
    "        #for j in range(K):\n",
    "        #    plt.plot(np.linspace(0, T_DKO, N_DKO), data[j, :])\n",
    "        #plt.title(\"DKO data\")\n",
    "        #plt.grid()\n",
    "        #plt.show()\n",
    "    elif distr ==\"mixing\":\n",
    "        # length of trajectory\n",
    "        N = 10000\n",
    "\n",
    "        # number of boxes = number of measures\n",
    "        m = 20\n",
    "\n",
    "        # generate trajectory\n",
    "        Xt = euler_maruyama(x0, a, b, T_SKO, N)\n",
    "\n",
    "        # see which data points falls in which box\n",
    "        indices = np.digitize(Xt, np.linspace(np.min(Xt), np.max(Xt), 20), right = True)\n",
    "\n",
    "        # sort the boxes and the data points accordingly\n",
    "        order = np.argsort(indices)\n",
    "        Xt = Xt[order]\n",
    "        indices = indices[order]\n",
    "\n",
    "        # compute the E and D matrices\n",
    "        E_DKO = np.zeros((9, m))\n",
    "        D_DKO = np.zeros((9, m))\n",
    "        for i in range(9):\n",
    "            c = -2 + i*0.5\n",
    "\n",
    "            # index that keeps track of bin number\n",
    "            j = 0\n",
    "\n",
    "            # index that keeps track of which data point we are considering\n",
    "            k = 0\n",
    "            while  j < m:\n",
    "                counts = 0\n",
    "                while k <= N and indices[k] == j:\n",
    "                    counts = counts + 1                   \n",
    "                    E_DKO[i, j] = E_DKO[i, j] + np.exp(-eps* (Xt[k] - c)**2)\n",
    "                    if k < N:\n",
    "                        D_DKO[i, j] = D_DKO[i, j] + np.exp(-eps* (Xt[k + 1] - c)**2)\n",
    "                    k = k + 1\n",
    "                    \n",
    "                E_DKO[i, j] = E_DKO[i, j]/counts\n",
    "                D_DKO[i, j] = D_DKO[i, j]/counts\n",
    "                j = j + 1\n",
    "        \n",
    "        print(N)\n",
    "    else:\n",
    "        # compute for one Dt time step the trajectory from different measures\n",
    "        T_DKO = Dt\n",
    "        N_DKO = int(N*T_DKO/T_SKO)\n",
    "        # number of samples and number of different measures\n",
    "        K = 1000\n",
    "        m = 10\n",
    "        E_DKO = np.zeros((9, m))\n",
    "        D_DKO = np.zeros((9, m))\n",
    "        data0 = np.zeros((m, K))\n",
    "        data1 = np.zeros((m, K))\n",
    "        for j in range(m):\n",
    "            for k in range(K):\n",
    "                # generate initial condition\n",
    "                if distr == \"normal\":\n",
    "                    x_0 = np.random.normal()*0.4 - 2 + 0.4*j\n",
    "\n",
    "                if distr == \"uniform\":\n",
    "                    x_0 = -2 + 4/m*j +  4 / m * np.random.uniform()\n",
    "                if distr == \"delta\":\n",
    "                    x_0 = x0\n",
    "                    \n",
    "                data0[j, k] = x0\n",
    "                trajx0 = euler_maruyama(x_0, a, b, T_DKO, N_DKO)\n",
    "                data1[j, k] = trajx0[-1]\n",
    "\n",
    "               \n",
    "  \n",
    "        for i in range(9):\n",
    "            c = -2 + i*0.5\n",
    "            phi_c_data0 = np.zeros((m, ))\n",
    "            phi_c_data1 = np.zeros((m, ))\n",
    "\n",
    "            for k in range(K):\n",
    "                phi_c_data0 += 1/K*np.exp(-eps* (data0[:, k] - c)**2)\n",
    "                phi_c_data1 += 1/K*np.exp(-eps* (data1[:, k] - c)**2)\n",
    "            E_DKO[i, :] = phi_c_data0\n",
    "            D_DKO[i, :] = phi_c_data1\n",
    "    K_DKO = D_DKO@np.linalg.pinv(E_DKO, rcond = 1e-5)\n",
    "   \n",
    "    return  K_DKO\n",
    "\n",
    "def plot_eigens(K_SKO, K_DKO):\n",
    "    # parameters\n",
    "    eps= 0.5\n",
    "     # Plot the eigenvalues and compare\n",
    "    evals_SKO, evects_SKO = np.linalg.eig(K_SKO)\n",
    "    plt.plot(np.real(evals_SKO), np.imag(evals_SKO), '.', label = 'SKO')\n",
    "    plt.title(\"Eigenvalues\")\n",
    "    plt.grid()\n",
    "    evals_DKO, evects_DKO = np.linalg.eig(K_DKO)\n",
    "    plt.plot(np.real(evals_DKO), np.imag(evals_DKO), 'x', label = 'DKO')\n",
    "    plt.legend()\n",
    "    plt.show()\n",
    "\n",
    "    # plot the dominant eigenfunctions and compare\n",
    "    max_eval_SKO = np.argmax(evals_SKO)\n",
    "    max_evect_SKO = evects_SKO[:, max_eval_SKO]\n",
    "    max_eval_DKO = np.argmax(evals_DKO)\n",
    "    max_evect_DKO = evects_DKO[:, max_eval_DKO]\n",
    "    x = np.linspace(-2, 2, 100)\n",
    "    eigf_SKO = np.zeros((100, ))\n",
    "    eigf_DKO = np.zeros((100, ))\n",
    "    for i in range(9):\n",
    "        c = -2 + i*0.5\n",
    "        eigf_SKO  = eigf_SKO + np.exp(-eps* (x - c)**2)*max_evect_SKO[i]\n",
    "        eigf_DKO  = eigf_DKO + np.exp(-eps* (x - c)**2)*max_evect_DKO[i]\n",
    "\n",
    "    plt.plot(x, np.real(eigf_SKO),'b',  label = \"SKO\")\n",
    "    plt.plot(x, np.real(eigf_DKO), 'g', label = \"DKO\")\n",
    "    plt.plot(x, np.imag(eigf_SKO), 'b')\n",
    "    plt.plot(x, np.imag(eigf_DKO), 'g')\n",
    "    plt.grid()\n",
    "    plt.legend()\n",
    "    plt.title(\"Dominant eigenfunction\")\n",
    "    plt.show()"
   ]
  },
  {
   "cell_type": "markdown",
   "id": "8b1aac1c-bf55-4fd7-9159-931a38d59a30",
   "metadata": {},
   "source": [
    "# Predictions\n",
    " In order to find the expectation we generate 100 paths starting from $x_0$ and average them. We do this for $100$ different initial conditions between [-2, 2] and store each expectation in the rows of the matrix expectations. We compare this to the prediction of the SKO vs DKo algorithms given by $K_{N\\Delta t} h_i(\\delta_{x_j}) = \\textbf{K}^N_{\\Delta t} H$, where $H = h_i(\\delta_{x_j})$"
   ]
  },
  {
   "cell_type": "code",
   "execution_count": 100,
   "id": "8b544ff6-6300-4e1c-8a18-681f4fbfe093",
   "metadata": {},
   "outputs": [],
   "source": [
    "def prediction(K, a, b):\n",
    "    \"\"\"\n",
    "        Given the formula for the SDE, and the matrix approximation K, it computes the predicted value of the radial basis functions \n",
    "        under the SDE for time T by repeatedly multiplying with K.\n",
    "    \"\"\"\n",
    "    # hyperparameters: number of grid points for function evaluation\n",
    "    N_x0 = 101\n",
    "    x0 = np.linspace(-2, 2, N_x0)\n",
    "\n",
    "    # number of dictionary functions\n",
    "    n = 9\n",
    "\n",
    "    # parameters of radial basis functions\n",
    "    eps = 0.5\n",
    "    \n",
    "    # time duration and number of time steps\n",
    "    T = 10\n",
    "    N = int((T ) /(Dt))\n",
    "\n",
    "\n",
    "    # compute the prediction for the expectation using the Koopman operator\n",
    "\n",
    "    # array to hold the results dimension 3 represents the time of the prediction, dim 2 is the evaluation point $\\delta_x_j$ and \n",
    "    # dim 1 is the observable\n",
    "    \n",
    "    predictions = np.zeros((n, N_x0, N + 1))\n",
    "\n",
    "    # matrix H_ij = h_i(\\delta_x_j)         \n",
    "    H = np.zeros((n, N_x0))\n",
    "    for i in range(n):\n",
    "        c = -2 + i*0.5\n",
    "        for xx in range(N_x0):\n",
    "            H[i, xx] = np.exp(-eps* ( x0[xx]- c)**2)\n",
    "\n",
    "    predictions[:, :, 0] = H\n",
    "    for j in range(1, N + 1):\n",
    "        predictions[:, :, j] = K @ predictions[:, :, j -1] \n",
    "    return  predictions\n",
    "\n",
    "def expectations(a, b):\n",
    "    \"\"\"\n",
    "        Given the formula for the SDE, it computes the expected value of the radial basis functions \n",
    "        under the SDE for time T = 10\n",
    "    \"\"\"\n",
    "\n",
    "    # parameters\n",
    "\n",
    "    # time duration \n",
    "    T = 10\n",
    "\n",
    "    # distance between two consecutive time steps\n",
    "    #Dt = 1\n",
    "\n",
    "    # how many grid points we approximate the function on\n",
    "    N_x0 = 101\n",
    "\n",
    "    # number of observables\n",
    "    n = 9\n",
    "    # parameters of radial basis functions\n",
    "    eps = 0.5\n",
    "\n",
    "    # number of trajectories to compute expectation over\n",
    "    N_sample = 100\n",
    "\n",
    "    # compute the expectation for N time steps\n",
    "    N = int((T) /(Dt))\n",
    "\n",
    "    x0 = np.linspace(-2, 2, N_x0)\n",
    "\n",
    "    # array to hold for each observable, and each grid point, for each time, the position of each trajectory\n",
    "    data_predictions = np.zeros((n, N_x0, N + 1, N_sample))\n",
    "    for i in range(n):\n",
    "        c = -2 + i*0.5\n",
    "        for xx in range(N_x0):\n",
    "            for repeat in range( N_sample):\n",
    "                    data_predictions[i, xx, :, repeat] = np.exp(-eps* ( euler_maruyama(x0[xx], a, b, T + Dt, N)- c)**2)\n",
    "    expectations = 1/N_sample * np.sum(data_predictions, axis = 3)\n",
    "    return expectations"
   ]
  },
  {
   "cell_type": "markdown",
   "id": "4822672e-e773-4dfe-a5ce-dac933784734",
   "metadata": {},
   "source": [
    "Using the same algorithm we compute the DKO and SKO matrix approximations for the below cases, and plot as before the eigenvalues, and dominant  eigenfunction\n",
    "# I. State independent noise, ergodic trajectory\n",
    "$$dX_t = - \\sin{x} dt + dB_t$$\n",
    "\n",
    "SKO and DKO need to see the same time intervals. "
   ]
  },
  {
   "cell_type": "code",
   "execution_count": 227,
   "id": "deac2b20-41a1-4089-be6b-297ca5ec463e",
   "metadata": {},
   "outputs": [
    {
     "name": "stdout",
     "output_type": "stream",
     "text": [
      "10000\n"
     ]
    }
   ],
   "source": [
    "def a(x):\n",
    "    return -np.sin(x)\n",
    "def b(x):\n",
    "    return 1 #0.2*np.exp(-0.5*(x-1)**2)\n",
    "    \n",
    "Dt = 0.1\n",
    "K_SKO = SKO(a, b)\n",
    "K_DKO = DKO(a, b, distr = \"mixing\")"
   ]
  },
  {
   "cell_type": "code",
   "execution_count": 146,
   "id": "5ed6df8b-869b-4db6-b997-47f10339789d",
   "metadata": {},
   "outputs": [],
   "source": [
    "truth = expectations(a, b)"
   ]
  },
  {
   "cell_type": "markdown",
   "id": "3cc57522-9c62-4d4e-91ba-0e1f05f55c11",
   "metadata": {},
   "source": [
    "for plotting purposes look at the prediction of g = 1/n h_n and in order to compute the accuracy we find the mean square error across\n",
    "the domain"
   ]
  },
  {
   "cell_type": "code",
   "execution_count": 228,
   "id": "b6e9dca8-108b-42d1-a6de-c2338637575f",
   "metadata": {},
   "outputs": [],
   "source": [
    "pred_SKO = prediction(K_SKO, a, b)\n",
    "pred_DKO = prediction(K_DKO, a, b)"
   ]
  },
  {
   "cell_type": "code",
   "execution_count": 229,
   "id": "cb1ac5c6-dae3-4513-866e-3af1427ab861",
   "metadata": {},
   "outputs": [
    {
     "name": "stdout",
     "output_type": "stream",
     "text": [
      "9 101 101\n",
      "(101, 101)\n",
      "101\n",
      "(101,)\n"
     ]
    },
    {
     "data": {
      "image/png": "[encoded data removed]",
      "text/plain": [
       "<Figure size 640x480 with 1 Axes>"
      ]
     },
     "metadata": {},
     "output_type": "display_data"
    }
   ],
   "source": [
    "n, N_x0, N = np.shape(truth)\n",
    "print(n, N, N_x0)\n",
    "g_pred_SKO = 1/n* np.sum(pred_SKO, axis = 0)\n",
    "g_pred_DKO = 1/n* np.sum(pred_DKO, axis = 0)\n",
    "\n",
    "g_true = 1/n*np.sum(truth, axis = 0)\n",
    "#g_pred_SKO = pred_SKO[3, :, :]\n",
    "#g_pred_DKO = pred_DKO[3, :, :]\n",
    "#g_true = truth[3, :, :]\n",
    "#mean_square_error_SKO = np.sum((g_true - g_pred_SKO)**2, axis = 0)/N_x0\n",
    "#mean_square_error_DKO = np.sum((g_true - g_pred_DKO)**2, axis = 0)/N_x0\n",
    "\n",
    "mean_square_error_SKO = np.trapezoid((g_true - g_pred_SKO)**2, axis = 0)\n",
    "mean_square_error_DKO = np.trapezoid((g_true - g_pred_DKO)**2, axis = 0)\n",
    "print(np.shape(g_true))\n",
    "print(N)\n",
    "print(np.shape(mean_square_error_DKO))\n",
    "# try trapezoidal rule instead\n",
    "plt.plot(np.linspace(0, 11, N ), mean_square_error_SKO, 'b^',label = \"SKO\")\n",
    "plt.plot(np.linspace(0, 11, N ), mean_square_error_DKO, 'mo', label = \"DKO\")\n",
    "plt.legend()\n",
    "plt.xlabel(\"$t$\")\n",
    "plt.ylabel(\"MSE\")\n",
    "plt.grid()\n",
    "#plt.ylim(0,1)\n",
    "#plt.xlim(0, 2)\n",
    "plt.show()\n",
    "#plot_eigens(K_SKO, K_DKO)"
   ]
  },
  {
   "cell_type": "code",
   "execution_count": 135,
   "id": "7bd44351-e26d-44ce-af94-d671877e4416",
   "metadata": {},
   "outputs": [],
   "source": [
    "# save the data that produced plots \n",
    "K_DKO_traj = K_DKO\n",
    "K_SKO_traj = K_SKO"
   ]
  },
  {
   "cell_type": "code",
   "execution_count": 161,
   "id": "86f8b3b0-f2b3-44ca-a0cb-c869e0c7d0e2",
   "metadata": {},
   "outputs": [],
   "source": [
    "K_DKO_normal = K_DKO\n",
    "K_SKO_normal = K_SKO"
   ]
  },
  {
   "cell_type": "code",
   "execution_count": 157,
   "id": "32dcbfed-972f-434a-add0-19608263fd61",
   "metadata": {},
   "outputs": [
    {
     "name": "stdout",
     "output_type": "stream",
     "text": [
      "(101, 101)\n",
      "101\n",
      "(101,)\n"
     ]
    },
    {
     "data": {
      "image/png": "[encoded data removed]",
      "text/plain": [
       "<Figure size 640x480 with 1 Axes>"
      ]
     },
     "metadata": {},
     "output_type": "display_data"
    }
   ],
   "source": [
    "pred_SKO = prediction(K_SKO_traj, a, b)\n",
    "pred_DKO = prediction(K_DKO_traj, a, b)\n",
    "\n",
    "g_pred_SKO = 1/n* np.sum(pred_SKO, axis = 0)\n",
    "g_pred_DKO = 1/n* np.sum(pred_DKO, axis = 0)\n",
    "\n",
    "g_true = 1/n*np.sum(truth, axis = 0)\n",
    "#g_pred_SKO = pred_SKO[3, :, :]\n",
    "#g_pred_DKO = pred_DKO[3, :, :]\n",
    "#g_true = truth[3, :, :]\n",
    "#mean_square_error_SKO = np.sum((g_true - g_pred_SKO)**2, axis = 0)/N_x0\n",
    "#mean_square_error_DKO = np.sum((g_true - g_pred_DKO)**2, axis = 0)/N_x0\n",
    "\n",
    "mean_square_error_SKO = np.trapezoid((g_true - g_pred_SKO)**2, axis = 0)\n",
    "mean_square_error_DKO = np.trapezoid((g_true - g_pred_DKO)**2, axis = 0)\n",
    "print(np.shape(g_true))\n",
    "print(N)\n",
    "print(np.shape(mean_square_error_DKO))\n",
    "# try trapezoidal rule instead\n",
    "plt.plot(np.linspace(0, 11, N ), mean_square_error_SKO, 'b^',label = \"SKO\")\n",
    "plt.plot(np.linspace(0, 11, N ), mean_square_error_DKO, 'mo', label = \"DKO\")\n",
    "plt.legend()\n",
    "plt.xlabel(\"$t$\")\n",
    "plt.ylabel(\"MSE\")\n",
    "plt.grid()\n",
    "#plt.ylim(0,1)\n",
    "#plt.xlim(0, 2)\n",
    "plt.show()\n",
    "#plot_eigens(K_SKO, K_DKO)"
   ]
  },
  {
   "cell_type": "markdown",
   "id": "8c8b3ec5-0bfb-4125-afac-f7096f999af0",
   "metadata": {},
   "source": [
    "# II. State dependent noise, ergodic trajectory\n",
    "\n",
    "The equations of motion are \n",
    "$$ dX_t = -sin(X_t) + 0.2e^{-0.5 (x - 1)^2}dB_t$$"
   ]
  },
  {
   "cell_type": "code",
   "execution_count": 162,
   "id": "74e466e7-5612-47d5-905d-d6941fe5f207",
   "metadata": {},
   "outputs": [],
   "source": [
    "def a(x):\n",
    "    return -np.sin(x)\n",
    "def b(x):\n",
    "    return  0.2*np.exp(-0.5*(x-1)**2)\n",
    "K_SKO = SKO(a, b)\n",
    "K_DKO = DKO(a, b)\n"
   ]
  },
  {
   "cell_type": "code",
   "execution_count": 163,
   "id": "09a0fe1d-b5fe-4ca2-9851-15cb2117731f",
   "metadata": {},
   "outputs": [],
   "source": [
    "truth_dependent = expectations(a, b)"
   ]
  },
  {
   "cell_type": "code",
   "execution_count": 166,
   "id": "046e43dd-0bb6-46d2-bab7-2accb91ef4cf",
   "metadata": {},
   "outputs": [
    {
     "data": {
      "image/png": "[encoded data removed]",
      "text/plain": [
       "<Figure size 640x480 with 1 Axes>"
      ]
     },
     "metadata": {},
     "output_type": "display_data"
    }
   ],
   "source": [
    "pred_SKO = prediction(K_SKO, a, b)\n",
    "pred_DKO = prediction(K_DKO, a, b)\n",
    "g_pred_SKO = 1/n* np.sum(pred_SKO, axis = 0)\n",
    "g_pred_DKO = 1/n* np.sum(pred_DKO, axis = 0)\n",
    "\n",
    "g_true = 1/n*np.sum(truth_dependent, axis = 0)\n",
    "\n",
    "mean_square_error_SKO = np.trapezoid((g_true - g_pred_SKO)**2)\n",
    "mean_square_error_DKO = np.trapezoid((g_true - g_pred_DKO)**2)\n",
    "# try trapezoidal rule instead\n",
    "plt.plot(np.linspace(0, 11, N ), mean_square_error_SKO, 'b^',label = \"SKO\")\n",
    "plt.plot(np.linspace(0, 11, N ), mean_square_error_DKO, 'mo', label = \"DKO\")\n",
    "plt.legend()\n",
    "plt.xlabel(\"$t$\")\n",
    "plt.ylabel(\"MSE\")\n",
    "plt.grid()\n",
    "plt.ylim(0,1)\n",
    "#plt.xlim(0, 2)\n",
    "plt.show()\n"
   ]
  },
  {
   "cell_type": "markdown",
   "id": "a0ea4e04-2ad6-42a0-ad84-93cebd1921e0",
   "metadata": {},
   "source": [
    "# III. State dependent noise, trajectory not ergodic\n",
    "\n",
    "Look at $dX_t = -sin(X_t)dt +  e^{-1/2x^2}dB_t$"
   ]
  },
  {
   "cell_type": "code",
   "execution_count": 169,
   "id": "c623db4a-0023-4006-9002-543e5b9c3748",
   "metadata": {},
   "outputs": [],
   "source": [
    "def a(x):\n",
    "    return -np.sin(x)\n",
    "def b(x):\n",
    "    return  0.2*np.exp(-0.5*x**2)\n",
    "K_DKO = DKO(a, b, distr  = \"delta\")\n",
    "K_SKO = SKO(a, b)"
   ]
  },
  {
   "cell_type": "code",
   "execution_count": 170,
   "id": "4371ce16-32bc-4cb4-ab99-13739a8eec02",
   "metadata": {},
   "outputs": [],
   "source": [
    "truth_2 = expectations(a, b)"
   ]
  },
  {
   "cell_type": "code",
   "execution_count": 172,
   "id": "9f11c3c2-b0aa-40a5-a51e-2d0777a0da72",
   "metadata": {},
   "outputs": [
    {
     "data": {
      "image/png": "[encoded data removed]",
      "text/plain": [
       "<Figure size 640x480 with 1 Axes>"
      ]
     },
     "metadata": {},
     "output_type": "display_data"
    }
   ],
   "source": [
    "pred_SKO = prediction(K_SKO, a, b)\n",
    "pred_DKO = prediction(K_DKO, a, b)\n",
    "g_pred_SKO = 1/n* np.sum(pred_SKO, axis = 0)\n",
    "g_pred_DKO = 1/n* np.sum(pred_DKO, axis = 0)\n",
    "\n",
    "g_true = 1/n*np.sum(truth_2, axis = 0)\n",
    "#g_pred_SKO = pred_SKO[3, :, :]\n",
    "#g_pred_DKO = pred_DKO[3, :, :]\n",
    "#g_true = truth[3, :, :]\n",
    "#mean_square_error_SKO = np.sum((g_true - g_pred_SKO)**2, axis = 0)/N_x0\n",
    "#mean_square_error_DKO = np.sum((g_true - g_pred_DKO)**2, axis = 0)/N_x0\n",
    "\n",
    "mean_square_error_SKO = np.trapezoid((g_true - g_pred_SKO)**2)\n",
    "mean_square_error_DKO = np.trapezoid((g_true - g_pred_DKO)**2)\n",
    "# try trapezoidal rule instead\n",
    "plt.plot(np.linspace(0, 11, N ), mean_square_error_SKO, 'b^',label = \"SKO\")\n",
    "plt.plot(np.linspace(0, 11, N ), mean_square_error_DKO, 'mo', label = \"DKO\")\n",
    "plt.legend()\n",
    "plt.xlabel(\"$t$\")\n",
    "plt.ylabel(\"MSE\")\n",
    "plt.grid()\n",
    "#plt.ylim(0,1)\n",
    "#plt.xlim(0, 2)\n",
    "plt.show()"
   ]
  },
  {
   "cell_type": "code",
   "execution_count": 199,
   "id": "8ecb9426-71b2-4ae9-8958-9de3de8e625f",
   "metadata": {},
   "outputs": [],
   "source": [
    "Xt = euler_maruyama(x0, a, b, 10, 10000)\n",
    "indices = np.digitize(Xt, np.linspace(np.min(Xt), np.max(Xt), 20), right = True)"
   ]
  },
  {
   "cell_type": "markdown",
   "id": "912fde76-55c8-4316-b7c8-1da853402aab",
   "metadata": {},
   "source": [
    "# IV. Variance"
   ]
  },
  {
   "cell_type": "code",
   "execution_count": 196,
   "id": "398959ac-0f15-41a6-a824-eccf8fdc85fa",
   "metadata": {},
   "outputs": [],
   "source": [
    "order = np.argsort(indices)\n",
    "indices = indices[order]\n",
    "Xt = Xt[order]"
   ]
  },
  {
   "cell_type": "code",
   "execution_count": 197,
   "id": "589fbc29-e353-4769-a6fe-b9a42ffdb2ce",
   "metadata": {},
   "outputs": [
    {
     "data": {
      "text/plain": [
       "array([ 2.45671683,  2.02453537,  2.02367861, ..., -0.04068499,\n",
       "       -0.04444687, -0.00399821])"
      ]
     },
     "execution_count": 197,
     "metadata": {},
     "output_type": "execute_result"
    }
   ],
   "source": [
    "Xt"
   ]
  },
  {
   "cell_type": "code",
   "execution_count": 201,
   "id": "6e817379-a554-4ff4-8d43-7ace7b45b075",
   "metadata": {},
   "outputs": [
    {
     "data": {
      "text/plain": [
       "np.int64(19)"
      ]
     },
     "execution_count": 201,
     "metadata": {},
     "output_type": "execute_result"
    }
   ],
   "source": [
    "max(indices)"
   ]
  },
  {
   "cell_type": "code",
   "execution_count": null,
   "id": "d3d002af-a757-44a1-869a-5ae134aab58d",
   "metadata": {},
   "outputs": [],
   "source": []
  }
 ],
 "metadata": {
  "kernelspec": {
   "display_name": "Python 3 (ipykernel)",
   "language": "python",
   "name": "python3"
  },
  "language_info": {
   "codemirror_mode": {
    "name": "ipython",
    "version": 3
   },
   "file_extension": ".py",
   "mimetype": "text/x-python",
   "name": "python",
   "nbconvert_exporter": "python",
   "pygments_lexer": "ipython3",
   "version": "3.12.7"
  }
 },
 "nbformat": 4,
 "nbformat_minor": 5
}
