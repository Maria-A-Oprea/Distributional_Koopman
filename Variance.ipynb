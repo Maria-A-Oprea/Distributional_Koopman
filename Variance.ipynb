{
 "cells": [
  {
   "cell_type": "code",
   "execution_count": 70,
   "id": "813b6af8-5c0c-41d1-accb-c7ad14621aa3",
   "metadata": {},
   "outputs": [],
   "source": [
    "import numpy as np\n",
    "import matplotlib.pyplot as plt\n",
    "import scipy.integrate as integrate"
   ]
  },
  {
   "cell_type": "markdown",
   "id": "d8a85573-3339-47d0-85c2-d987be48677a",
   "metadata": {},
   "source": [
    "The goal of this notebook is to compare the true value of the variance prediction of an SDE along the trajectory with the one predicted by the Distributional Koopman operator restricted to a different space of observables $H_1 \\cup H_2$.\n",
    "The SDE we are considering is: $$dX_t = a(x) dt + b(x) dB_t$$\n",
    "and for the observables we select the following: Given radial basis functions $$\\hat{h}_i = \\phi_{c_i} = e^{-\\epsilon (x - c)^2}$$\n",
    "with centers $c_i \\in \\{-2, -1.5, -1, -0.5, 0, 0.5, 1, 1.5, 2\\}$ and $\\epsilon = 0.5$. \n",
    "\n",
    "Given these we choose basis functions to be $$\\left\\{\\int \\hat{h}_i d\\pi \\int \\hat{h}_j d\\pi, \\int \\hat{h}_i\\hat{h}_j d\\pi\\right\\}_{i = 1, j = i}^n$$ This is an $n(n + 1)$ dimensional space. "
   ]
  },
  {
   "cell_type": "code",
   "execution_count": 6,
   "id": "718c13f1-aa4d-4a72-b62e-aeeef48cb84e",
   "metadata": {},
   "outputs": [],
   "source": [
    "def euler_maruyama(x0, a, b, T, N):\n",
    "    \"\"\"\n",
    "    implements the euler maruyama method with initial condition x0 and\n",
    "    coefficients a and b, for time T. The interval [0, T] is partitioned\n",
    "    in N steps. We impose BC to keep the data within [-2, 2]\n",
    "    \"\"\"\n",
    "    dt = T/N\n",
    "    y = np.zeros(N + 1)\n",
    "    y[0] = x0\n",
    "    for i in range(N):\n",
    "        y[i + 1] = ( y[i] + np.random.normal()* np.sqrt(dt)*b(y[i]) + a(y[i])* dt +2 )% 4 - 2 \n",
    "    return y\n",
    "\n"
   ]
  },
  {
   "cell_type": "code",
   "execution_count": 35,
   "id": "05c332e3-6dd4-4726-a274-5303b5db21d2",
   "metadata": {},
   "outputs": [],
   "source": [
    "def variances( a, b, Dt = 0.1, N_sample = 100, N_x0 = 101, T = 11):\n",
    "    \"\"\"\n",
    "        Given the form of the SDE (a, b), the time difference between steps, the number of samples to be used for empirical computation\n",
    "        of the covariances(N_sample), number of grid points(N_x0) and the time (T)\n",
    "        of prediction, this function computes the matrix of covariances Cov(K_th_i(x), K_t h_j(x)) for every x and for ever time. \n",
    "    \"\"\"\n",
    "    # number of observables\n",
    "    n = 9\n",
    "    # parameters of radial basis functions\n",
    "    eps = 0.5\n",
    "    \n",
    "    # compute the expectation for N time steps\n",
    "    N = int((T) /(Dt))\n",
    "    x0 = np.linspace(-2, 2, N_x0)\n",
    "\n",
    "    # data_predictions holds for each observale, each grid point and each time, the observation of the sample \n",
    "    data_predictions = np.zeros((n, N_x0, N + 1, N_sample))\n",
    "    for i in range(n):\n",
    "        c = -2 + i*0.5\n",
    "        for xx in range(N_x0):\n",
    "            for repeat in range( N_sample):\n",
    "                    data_predictions[i, xx, :, repeat] = np.exp(-eps* ( euler_maruyama(x0[xx], a, b, T , N)- c)**2)\n",
    "    expectations = 1/N_sample * np.sum(data_predictions, axis = 3)\n",
    "\n",
    "    # compute the covariance matrix where each entry is E[h_i(X_t) h_j(X_t) | X_0 = x] for each grid x, and each time t\n",
    "    covariances = data_predictions[:, None, :, :, :] * data_predictions[None, :, :, :]                                            \n",
    "    covariances = 1/N_sample * np.sum(covariances, axis = 4)\n",
    "    return expectations, covariances"
   ]
  },
  {
   "cell_type": "code",
   "execution_count": 28,
   "id": "11158007-ac76-41c9-83fd-b71384307b12",
   "metadata": {},
   "outputs": [],
   "source": [
    "def var_DKO(a, b, distr = \"trajectory\", K = 100, m = 100, Dt = 0.1, solver_precision = 0.01):\n",
    "    \"\"\"\n",
    "        function that computes the best approximation to the DKO on H_1 U H_1 given: \n",
    "        - a, b -> form of the SDE\n",
    "        - distr -> option for what kind of data should be used\n",
    "        - K -> number of samples for empirical distribution\n",
    "        - m -> number of measures\n",
    "        - Dt -> time difference for the Koopma operator\n",
    "        - solver_precision -> accuracy of the euler maruyama method\n",
    "    \"\"\"\n",
    "    # dictionary parameters\n",
    "    n = 9\n",
    "    eps = 0.5\n",
    "    # number of samples\n",
    "    N_DKO = int(m*Dt/solver_precision)      \n",
    "    T_DKO = Dt*m\n",
    "    data = np.zeros((K, N_DKO + 1))\n",
    "    for j in range(K):\n",
    "        # uncomment this if you want the initial distribution to be a delta at 0\n",
    "        # x0 = 0\n",
    "\n",
    "        # uncomment this if you want the initial distribution to be normal\n",
    "        x_0 = np.random.normal(loc = 0, scale = 1/np.sqrt(2))\n",
    "        data[j, :] = euler_maruyama(x_0, a, b, T_DKO, N_DKO)\n",
    "    # DKO data is the trajectory data but with a step of Dt in between\n",
    "    data = data[:, ::int(Dt/solver_precision)]\n",
    "\n",
    "    # update the number of points in the data\n",
    "    (_, N_DKO) = np.shape(data)\n",
    "\n",
    "    # compute the E and D matrices \n",
    "    E = np.zeros(( n*(n + 1), N_DKO - 1))\n",
    "    D = np.zeros(( n*(n + 1), N_DKO - 1))\n",
    "    count = 0\n",
    "    for i in range(n):\n",
    "        c = -2 + i*0.5\n",
    "        for j in range(i + 1):\n",
    "            d = -2 + j*0.5\n",
    "            phi_linear_data = np.zeros((N_DKO, ))\n",
    "            phi_quadratic_1 = np.zeros((N_DKO, ))\n",
    "            phi_quadratic_2 = np.zeros((N_DKO, ))\n",
    "            for k in range(K):\n",
    "                phi_linear_data += 1/K*np.exp(-eps* (data[k, :] - c)**2)* np.exp(-eps* (data[k, :] - d)**2)\n",
    "                phi_quadratic_1 += 1/K*np.exp(-eps* (data[k, :] - c)**2)\n",
    "                phi_quadratic_2 += 1/K*np.exp(-eps* (data[k, :] - d)**2)\n",
    "            phi_quadratic_data = phi_quadratic_1 * phi_quadratic_2\n",
    "            E[count, :] = phi_linear_data[:-1]\n",
    "            D[count, :] = phi_linear_data[1:]\n",
    "            E[count + int(n*(n + 1)/2) :] = phi_quadratic_data[:-1]\n",
    "            D[count + int(n*(n + 1)/2), :] = phi_quadratic_data[1:]\n",
    "            count = count + 1\n",
    "    K_DKO = D@np.linalg.pinv(E, rcond = 1e-5)\n",
    "    return K_DKO\n"
   ]
  },
  {
   "cell_type": "code",
   "execution_count": 45,
   "id": "d2c3a836-0a42-4b82-b2ea-69242175f734",
   "metadata": {},
   "outputs": [],
   "source": [
    "def predictions(K, N_x0 = 101, Dt = 0.1, T = 11):\n",
    "    \"\"\"\n",
    "        It gives the prediction on every basis function for time T, with a difference Dt between times, and on a grid\n",
    "            consisting on N_x0 grid points. The basis functions are:\n",
    "            \\int h_i(x) h_j(x) d\\pi, \\int h_i d\\pi \\int h_j d\\pi\n",
    "    \"\"\"\n",
    "    # grid points to evaluate the functions\n",
    "    x0 = np.linspace(-2, 2, N_x0)\n",
    "\n",
    "    # number of dictionary functions\n",
    "    n = 9\n",
    "\n",
    "    # parameters of radial basis functions\n",
    "    eps = 0.5\n",
    "    \n",
    "    # time duration and number of time steps\n",
    "    N = int((T ) /(Dt))\n",
    "\n",
    "\n",
    "    # compute the prediction for the expectation using the Koopman operator\n",
    "\n",
    "    # array to hold the results dimension 3 represents the time of the prediction, dim 2 is the evaluation point $\\delta_x_j$ and \n",
    "    # dim 1 is the observable\n",
    "    \n",
    "    predictions = np.zeros((n*(n + 1), N_x0, N + 1))\n",
    "\n",
    "    # matrix H holds for each basis function the starting point \n",
    "    H = np.zeros((n*(n + 1), N_x0))\n",
    "    count = 0\n",
    "    for i in range(n):\n",
    "        c = -2 + i*0.5\n",
    "        for j in range(i + 1):\n",
    "            d = -2 + j*0.5\n",
    "            for xx in range(N_x0):\n",
    "                H[count, xx] = np.exp(-eps* ( x0[xx]- c)**2) * np.exp(-eps* ( x0[xx]- d)**2)\n",
    "                H[count + int(n*(n + 1)/2), xx] =  np.exp(-eps* ( x0[xx]- c)**2) * np.exp(-eps* ( x0[xx]- d)**2)\n",
    "            count = count + 1\n",
    "\n",
    "    predictions[:, :, 0] = H\n",
    "    for j in range(1, N + 1):\n",
    "        predictions[:, :, j] = K @ predictions[:, :, j -1] \n",
    "    return  predictions"
   ]
  },
  {
   "cell_type": "markdown",
   "id": "611ca8e7-0dfe-4edf-96f5-7470f5b4e1ba",
   "metadata": {},
   "source": [
    "When we asses the prediciton quality we look at the performance on observables that are variances of the original dictionary functions i.e. we want to predict $$ g_i(x) = Var(\\hat{h}_i (X_t) | X_0 = x)$$ To judge performance we compute the Mean Square Error: $$MSE_t = \\frac{1}{n} \\sum_{i = 1}^n \\int |Var(\\hat{h}_i (X_t) | X_0 = x)  - K^{var}_t Var(\\hat{h}_i(X)| X\\sim \\delta_x) |^2d x $$ where $K_t^{var}$ is the DKO algorithm approximation. "
   ]
  },
  {
   "cell_type": "markdown",
   "id": "4f5ba16d-af62-49d0-8f6f-71c42b682e7a",
   "metadata": {},
   "source": [
    "### State independent noise\n",
    "$$dX_t =  -sin(2\\pi x) dt + dB_t$$"
   ]
  },
  {
   "cell_type": "code",
   "execution_count": 37,
   "id": "79f71e83-7d18-4d17-85bd-fc191d332638",
   "metadata": {},
   "outputs": [],
   "source": [
    "def a(x):\n",
    "    return - np.sin(2*np.pi*x)\n",
    "def b(x):\n",
    "    return 1"
   ]
  },
  {
   "cell_type": "code",
   "execution_count": 38,
   "id": "aa108134-fbe1-4524-8e15-ea9ae8ac68af",
   "metadata": {},
   "outputs": [],
   "source": [
    "# compute the expectaiton and covariances using the definition.\n",
    "expectations, covariances = variances(a, b)"
   ]
  },
  {
   "cell_type": "code",
   "execution_count": 46,
   "id": "3c248954-731c-4bfe-b40a-8f502f02e25e",
   "metadata": {},
   "outputs": [],
   "source": [
    "K_var = var_DKO(a, b)"
   ]
  },
  {
   "cell_type": "code",
   "execution_count": 47,
   "id": "a75a5a8f-321b-469a-aa89-ad69a5f58694",
   "metadata": {},
   "outputs": [],
   "source": [
    "# compute the variance predictions on the basis functions\n",
    "pred = predictions(K_var)"
   ]
  },
  {
   "cell_type": "markdown",
   "id": "48e7cdf9-3e97-4cd1-8d2f-d09110ce2601",
   "metadata": {},
   "source": [
    "We want to asses the quality of the prediction on the variance, so we need to compute the variance truth and variance prediction. We compute the variance by \n",
    "$$  Var (\\hat{h}_i(X_t) |X_0 = x) = \\mathbb{E}[\\hat{h}_i^2|X_0 = x] - (\\mathbb{E}[\\hat{h}_i|X_0 = x])^2$$\n",
    "\n",
    "The method is the following\n",
    "\n",
    "- function variances returns\n",
    "  - expectations = $\\mathbb{E}[\\hat{h}_i(X_t)|X_0 = x]$ for $i \\in \\{1, \\dots, n\\}$ and $x \\in [-2, 2]$\n",
    "  - covariances = $\\mathbb{E}[\\hat{h}_i(X_t) \\hat{h}_j(X_t)|X_0 = x]$\n",
    "- function predictions returns:\n",
    "  - pred = $ K_t g_l(\\delta_{x})$ for the same $x$ where for $l \\leq \\frac{n(n + 1)}{2}$ we have $g_l(\\pi) = \\int \\hat{h}_i \\hat{h}_j d\\pi$ and for $l > \\frac{n(n + 1)}{2}$ we have $g_l(\\pi) = \\int \\hat{h}_i d \\pi \\int \\hat{h}_j d\\pi$\n",
    "\n",
    "So the true prediction is $$Var(\\hat{h}_j(X_t) | X_0 = x) = covariances[j, j, x, t] - expectations[i, x, t]^2$$ and the predicted variance is\n",
    "$$K^{var}_t h_j(\\delta_x) = pred[j(j + 1)/2 , x, t] - pred[j(j + 1)/2 + n(n + 1)/2, x, t]$$"
   ]
  },
  {
   "cell_type": "code",
   "execution_count": 82,
   "id": "2b06c392-40c3-4886-96ef-d5844d61694a",
   "metadata": {},
   "outputs": [],
   "source": [
    "# number of dictionary functions\n",
    "(n, N_x0, N_time) = np.shape(expectations)\n",
    "# compute the variances\n",
    "i = np.arange(n)\n",
    "i = i.astype(int)\n",
    "true_variances = covariances[i, i, :, :] - expectations**2\n",
    "pred_variances = np.zeros((n, N_x0, N_time))\n",
    "i = np.arange(1, n + 1)*(np.arange(1, n + 1) +1 ) /2 -1 \n",
    "i = i.astype(int)\n",
    "pred_variances = pred[i, :, :] - pred[i+ int(n*(n + 1)/2), :, :]"
   ]
  },
  {
   "cell_type": "code",
   "execution_count": 84,
   "id": "d3b98e48-76a3-4ba2-9e8f-5d8e0a678813",
   "metadata": {},
   "outputs": [],
   "source": [
    "dx = 4/N_x0\n",
    "mean_square_error = 1/n* np.sum( integrate.trapezoid((pred_variances-true_variances)**2, dx = dx, axis = 1), axis = 0 )"
   ]
  },
  {
   "cell_type": "code",
   "execution_count": 92,
   "id": "1bb2e038-67fd-4d71-ae29-b4c57c7f7fb2",
   "metadata": {},
   "outputs": [
    {
     "data": {
      "image/png": "[encoded data removed]",
      "text/plain": [
       "<Figure size 640x480 with 1 Axes>"
      ]
     },
     "metadata": {},
     "output_type": "display_data"
    }
   ],
   "source": [
    "time = np.linspace(0, 11, N_time)\n",
    "plt.figure()\n",
    "plt.rcParams[\"font.family\"] = \"serif\"\n",
    "plt.rcParams[\"font.serif\"] = \"Times New Roman\"\n",
    "plt.rcParams.update({'font.size': 18})\n",
    "plt.plot(time[::2], mean_square_error[::2], 'mo')\n",
    "plt.xlabel(\"Time (t)\")\n",
    "plt.ylabel(\"MSE\")\n",
    "plt.grid()\n",
    "\n",
    "plt.show()"
   ]
  },
  {
   "cell_type": "markdown",
   "id": "3e5a82c2-202a-4978-a1b2-e5cdae6a39aa",
   "metadata": {},
   "source": [
    "We repeat this experiment many times and compute the statistics\n"
   ]
  },
  {
   "cell_type": "code",
   "execution_count": 96,
   "id": "e1bf964c-177b-4561-bbe4-a1a55cff529b",
   "metadata": {},
   "outputs": [],
   "source": [
    "N_exp = 50\n",
    "results_var = np.zeros((N_exp, N_time))\n",
    "\n",
    "for repeat in range(N_exp):\n",
    "    K_var = var_DKO(a, b)\n",
    "    pred = predictions(K_var)\n",
    "    i = np.arange(1, n + 1)*(np.arange(1, n + 1) +1 ) /2 -1 \n",
    "    i = i.astype(int)\n",
    "    pred_variances = pred[i, :, :] - pred[i+ int(n*(n + 1)/2), :, :]\n",
    "    mean_square_error = 1/n* np.sum( integrate.trapezoid((pred_variances-true_variances)**2, dx = dx, axis = 1), axis = 0 )\n",
    "    results_var[repeat, :] = mean_square_error\n",
    "    "
   ]
  },
  {
   "cell_type": "code",
   "execution_count": 97,
   "id": "f8249ce6-515c-4dc5-aa7b-2879449a53b0",
   "metadata": {},
   "outputs": [],
   "source": [
    "mean_var= np.mean(results_var, axis = 0)\n",
    "var_var = np.std(results_var, axis = 0)/np.sqrt(N_exp)\n"
   ]
  },
  {
   "cell_type": "code",
   "execution_count": 98,
   "id": "2b04be3a-8d30-4b67-bd1f-5ef3bb029d5b",
   "metadata": {},
   "outputs": [
    {
     "data": {
      "image/png": "[encoded data removed]",
      "text/plain": [
       "<Figure size 640x480 with 1 Axes>"
      ]
     },
     "metadata": {},
     "output_type": "display_data"
    }
   ],
   "source": [
    "plt.figure()\n",
    "plt.rcParams[\"font.family\"] = \"serif\"\n",
    "plt.rcParams[\"font.serif\"] = \"Times New Roman\"\n",
    "plt.rcParams.update({'font.size': 18})\n",
    "\n",
    "plt.errorbar(time[9::10], mean_var[9::10], yerr = var_var[9::10],\n",
    "             linestyle = \"-.\", color = \"blue\", capsize = 5, elinewidth = 0.5 )\n",
    "plt.xlabel(\"Time (t)\")\n",
    "plt.ylabel(\"MSE\")\n",
    "plt.yscale(\"log\")\n",
    "plt.grid()\n",
    "plt.savefig(\"state_dependent_variance.png\")"
   ]
  },
  {
   "cell_type": "code",
   "execution_count": null,
   "id": "21921a95-3873-4975-b496-8b207b29f2f2",
   "metadata": {},
   "outputs": [],
   "source": []
  }
 ],
 "metadata": {
  "kernelspec": {
   "display_name": "Python 3 (ipykernel)",
   "language": "python",
   "name": "python3"
  },
  "language_info": {
   "codemirror_mode": {
    "name": "ipython",
    "version": 3
   },
   "file_extension": ".py",
   "mimetype": "text/x-python",
   "name": "python",
   "nbconvert_exporter": "python",
   "pygments_lexer": "ipython3",
   "version": "3.12.7"
  }
 },
 "nbformat": 4,
 "nbformat_minor": 5
}
